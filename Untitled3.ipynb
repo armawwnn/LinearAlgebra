{
  "nbformat": 4,
  "nbformat_minor": 0,
  "metadata": {
    "colab": {
      "provenance": [],
      "collapsed_sections": [
        "leVPoNAV5w36"
      ],
      "authorship_tag": "ABX9TyPSvW8nJ5hDlPBNA/1LrbD5",
      "include_colab_link": true
    },
    "kernelspec": {
      "name": "python3",
      "display_name": "Python 3"
    },
    "language_info": {
      "name": "python"
    }
  },
  "cells": [
    {
      "cell_type": "markdown",
      "metadata": {
        "id": "view-in-github",
        "colab_type": "text"
      },
      "source": [
        "<a href=\"https://colab.research.google.com/github/armawwnn/LinearAlgebra/blob/main/Untitled3.ipynb\" target=\"_parent\"><img src=\"https://colab.research.google.com/assets/colab-badge.svg\" alt=\"Open In Colab\"/></a>"
      ]
    },
    {
      "cell_type": "code",
      "source": [
        "import numpy as np\n",
        "import math\n",
        "import matplotlib.pyplot as plt"
      ],
      "metadata": {
        "id": "TGGzTz1O4NLm"
      },
      "execution_count": 7,
      "outputs": []
    },
    {
      "cell_type": "markdown",
      "source": [
        "##plot 2d"
      ],
      "metadata": {
        "id": "AID5BLYZ44jS"
      }
    },
    {
      "cell_type": "code",
      "source": [
        "import numpy as np\n",
        "import matplotlib.pyplot as plt\n",
        "\n",
        "def plot_vector_2d(vector, color='blue', label='vector', origin=[0, 0]):\n",
        "    \"\"\"\n",
        "    Plots a 2D vector from the origin.\n",
        "\n",
        "    Args:\n",
        "        vector (array-like): A 2D vector, like [x, y]\n",
        "        color (str): Color of the arrow\n",
        "        label (str): Label to show in the legend\n",
        "        origin (list): Starting point of the arrow [x0, y0]\n",
        "    \"\"\"\n",
        "    vector = np.array(vector)\n",
        "\n",
        "    plt.figure(figsize=(6,6))\n",
        "    plt.quiver(*origin, vector[0], vector[1],\n",
        "               angles='xy', scale_units='xy', scale=1,\n",
        "               color=color, label=label)\n",
        "\n",
        "    # Set up the plot\n",
        "    plt.xlim(-10, 10)\n",
        "    plt.ylim(-10, 10)\n",
        "    plt.axhline(0, color='black')\n",
        "    plt.axvline(0, color='black')\n",
        "    plt.gca().set_aspect('equal')\n",
        "    plt.grid(True)\n",
        "    plt.legend()\n",
        "    plt.title(f'2D Vector Plot: {vector}')\n",
        "    plt.show()\n"
      ],
      "metadata": {
        "id": "j_8lg3If44Oc"
      },
      "execution_count": 14,
      "outputs": []
    },
    {
      "cell_type": "markdown",
      "source": [],
      "metadata": {
        "id": "cnTFpalo44El"
      }
    },
    {
      "cell_type": "markdown",
      "source": [
        "##derivative"
      ],
      "metadata": {
        "id": "leVPoNAV5w36"
      }
    },
    {
      "cell_type": "code",
      "source": [
        "def derivative_matrix(n):\n",
        "    mat = np.zeros((n+1, n+1))\n",
        "    for i in range(n):\n",
        "        mat[i, i+1] = i+1\n",
        "    return mat"
      ],
      "metadata": {
        "id": "9ke1XPi546Fw"
      },
      "execution_count": null,
      "outputs": []
    },
    {
      "cell_type": "code",
      "source": [
        "#generate derivative_matrix\n",
        "n=3\n",
        "A = derivative_matrix(n)\n",
        "print(A)"
      ],
      "metadata": {
        "colab": {
          "base_uri": "https://localhost:8080/"
        },
        "id": "UQfURVJ64_9R",
        "outputId": "b7209644-66df-4090-fc47-d5eb19976f08"
      },
      "execution_count": null,
      "outputs": [
        {
          "output_type": "stream",
          "name": "stdout",
          "text": [
            "[[0. 1. 0. 0.]\n",
            " [0. 0. 2. 0.]\n",
            " [0. 0. 0. 3.]\n",
            " [0. 0. 0. 0.]]\n"
          ]
        }
      ]
    },
    {
      "cell_type": "code",
      "execution_count": null,
      "metadata": {
        "id": "PPqvKPUR3jDR"
      },
      "outputs": [],
      "source": [
        "\n",
        "B = np.array([[3],\n",
        "              [2],\n",
        "              [5],\n",
        "              [4]])"
      ]
    },
    {
      "cell_type": "code",
      "source": [
        "result = np.dot(A, B)\n",
        "print(result)"
      ],
      "metadata": {
        "colab": {
          "base_uri": "https://localhost:8080/"
        },
        "id": "g_cF7IZR30b8",
        "outputId": "e3981313-effb-489c-a1df-ba7e8aa24990"
      },
      "execution_count": null,
      "outputs": [
        {
          "output_type": "stream",
          "name": "stdout",
          "text": [
            "[[ 2.]\n",
            " [10.]\n",
            " [12.]\n",
            " [ 0.]]\n"
          ]
        }
      ]
    },
    {
      "cell_type": "markdown",
      "source": [
        "##Rotation Matrix"
      ],
      "metadata": {
        "id": "tVyxYdJh6aRn"
      }
    },
    {
      "cell_type": "code",
      "source": [
        "def rotate_vector_2d(vector, angle_degrees):\n",
        "\n",
        "    angle_radians = np.deg2rad(angle_degrees)\n",
        "\n",
        "\n",
        "    rotation_matrix = np.array([\n",
        "        [np.cos(angle_radians), -np.sin(angle_radians)],\n",
        "        [np.sin(angle_radians),  np.cos(angle_radians)]\n",
        "    ])\n",
        "\n",
        "\n",
        "    rotated_vector = rotation_matrix @ vector\n",
        "    rotated_vector = np.round(rotated_vector, 5)\n",
        "    return rotated_vector\n"
      ],
      "metadata": {
        "id": "JCxyahaf4cz8"
      },
      "execution_count": 19,
      "outputs": []
    },
    {
      "cell_type": "code",
      "source": [
        "vector = np.array([3, 2])\n",
        "angle = 180\n",
        "rotated = rotate_vector_2d(vector, angle)\n",
        "\n",
        "print(\"Original Vector:\", vector)\n",
        "print(\"Rotated Vector:\", rotated)"
      ],
      "metadata": {
        "id": "6UP_6GVz6-02",
        "colab": {
          "base_uri": "https://localhost:8080/"
        },
        "outputId": "c9374898-1b2f-498a-96b7-71e370a621c0"
      },
      "execution_count": 30,
      "outputs": [
        {
          "output_type": "stream",
          "name": "stdout",
          "text": [
            "Original Vector: [3 2]\n",
            "Rotated Vector: [-3. -2.]\n"
          ]
        }
      ]
    },
    {
      "cell_type": "code",
      "source": [
        "import matplotlib.pyplot as plt\n",
        "plt.figure(figsize=(6,6))\n",
        "plt.quiver(0, 0, vector[0], vector[1], angles='xy', scale_units='xy', scale=1, color='blue', label='Original')\n",
        "plt.quiver(0, 0, rotated[0], rotated[1], angles='xy', scale_units='xy', scale=1, color='red', label='Rotated')\n",
        "plt.xlim(-5, 5)\n",
        "plt.ylim(-5, 5)\n",
        "plt.grid(True)\n",
        "plt.axvline(0, color='black')\n",
        "plt.gca().set_aspect('equal')\n",
        "plt.legend(['Original', 'Rotated'])\n",
        "plt.title(f'Rotation by {angle} degrees')\n",
        "plt.show()"
      ],
      "metadata": {
        "id": "VbFv0MeB7E7Y",
        "colab": {
          "base_uri": "https://localhost:8080/",
          "height": 545
        },
        "outputId": "2ab0158b-9e5c-4026-c8e7-d6f2b8898931"
      },
      "execution_count": 32,
      "outputs": [
        {
          "output_type": "display_data",
          "data": {
            "text/plain": [
              "<Figure size 600x600 with 1 Axes>"
            ],
            "image/png": "[encoded data removed]"
          },
          "metadata": {}
        }
      ]
    },
    {
      "cell_type": "markdown",
      "source": [
        "##vector_transposed"
      ],
      "metadata": {
        "id": "meYRnGDaIc0e"
      }
    },
    {
      "cell_type": "code",
      "source": [
        "vector = np.array([\n",
        "    [1, 2, 3],\n",
        "    [5, 8, 9],\n",
        "    [3, 0, 6]\n",
        "])\n",
        "vector_transposed = vector.T\n",
        "print(\"Original Vector (as row):\")\n",
        "print(vector)\n",
        "print(\"Transposed Vector (as column):\")\n",
        "print(vector_transposed)"
      ],
      "metadata": {
        "colab": {
          "base_uri": "https://localhost:8080/"
        },
        "id": "ucdJBMdUEBkU",
        "outputId": "d3113f72-fc4d-4ac7-de5a-b393ca799325"
      },
      "execution_count": 62,
      "outputs": [
        {
          "output_type": "stream",
          "name": "stdout",
          "text": [
            "Original Vector (as row):\n",
            "[[1 2 3]\n",
            " [5 8 9]\n",
            " [3 0 6]]\n",
            "Transposed Vector (as column):\n",
            "[[1 5 3]\n",
            " [2 8 0]\n",
            " [3 9 6]]\n"
          ]
        }
      ]
    },
    {
      "cell_type": "markdown",
      "source": [
        "##dot product"
      ],
      "metadata": {
        "id": "AYlyQM87Iw_F"
      }
    },
    {
      "cell_type": "code",
      "source": [
        "vector1=np.array([1,3,2])\n",
        "\n",
        "vector2=np.array([4,-4,4])\n",
        "dot_product = np.dot(vector1, vector2)\n",
        "print(\"Dot Product:\", dot_product)\n",
        "if dot_product == 0:\n",
        "  print('Two vectors are perpendicular to each other.')\n"
      ],
      "metadata": {
        "colab": {
          "base_uri": "https://localhost:8080/"
        },
        "id": "y4iRvmmUEXPp",
        "outputId": "bdae350e-f59a-4117-c543-7716781f63d7"
      },
      "execution_count": 57,
      "outputs": [
        {
          "output_type": "stream",
          "name": "stdout",
          "text": [
            "Dot Product: 0\n",
            "Two vectors are perpendicular to each other.\n"
          ]
        }
      ]
    },
    {
      "cell_type": "code",
      "source": [
        "vector3 = rotate_vector_2d(vector1,90)\n",
        "print(vector3)"
      ],
      "metadata": {
        "colab": {
          "base_uri": "https://localhost:8080/"
        },
        "id": "UqvbxC2-JoyT",
        "outputId": "f99d649e-7c9b-44da-9d06-2527a2765ffd"
      },
      "execution_count": 44,
      "outputs": [
        {
          "output_type": "stream",
          "name": "stdout",
          "text": [
            "[-1.       1.73205]\n"
          ]
        }
      ]
    },
    {
      "cell_type": "markdown",
      "source": [
        "##vector norm"
      ],
      "metadata": {
        "id": "oYOUfhAJLdmS"
      }
    },
    {
      "cell_type": "code",
      "source": [
        "vector4=np.array([1,math.sqrt(3)])\n",
        "vector5=np.array([math.sqrt(3),1])\n",
        "\n",
        "norm_v4 = np.linalg.norm(vector4)\n",
        "norm_v5 = np.linalg.norm(vector5)\n",
        "dot_product = np.dot(vector4, vector5)\n",
        "cos_teta = dot_product/(norm_v4*norm_v5)\n",
        "\n",
        "angle_rad = np.arccos(cos_teta)\n",
        "angle_deg = np.degrees(angle_rad)\n",
        "\n",
        "print(\"norm vec4: \",norm_v4)\n",
        "print(\"norm vec5: \",norm_v4)\n",
        "print(\"Dot Product:\", dot_product)\n",
        "\n",
        "print(\"arccos({}) = {} radians\".format(cos_teta, angle_rad))\n",
        "print(\"arccos({}) = {} degrees\".format(cos_teta, round(angle_deg)))"
      ],
      "metadata": {
        "colab": {
          "base_uri": "https://localhost:8080/"
        },
        "id": "O-Zz2N-zLA_z",
        "outputId": "88fe308d-68f8-4e13-969d-75373483d314"
      },
      "execution_count": 56,
      "outputs": [
        {
          "output_type": "stream",
          "name": "stdout",
          "text": [
            "norm vec4:  1.9999999999999998\n",
            "norm vec5:  1.9999999999999998\n",
            "Dot Product: 3.4641016151377544\n",
            "arccos(0.8660254037844388) = 0.5235987755982985 radians\n",
            "arccos(0.8660254037844388) = 30 degrees\n"
          ]
        }
      ]
    },
    {
      "cell_type": "markdown",
      "source": [
        "##sum of vector"
      ],
      "metadata": {
        "id": "LwusNCmYN4gt"
      }
    },
    {
      "cell_type": "code",
      "source": [
        "import numpy as np\n",
        "import matplotlib.pyplot as plt\n",
        "\n",
        "# Define two vectors\n",
        "v1 = np.array([2, 1])\n",
        "v2 = np.array([1, 3])\n",
        "\n",
        "# Sum of vectors\n",
        "v_sum = v1 + v2\n",
        "\n",
        "\n",
        "plt.figure(figsize=(6,6))\n",
        "\n",
        "plt.quiver(0, 0, v1[0], v1[1], angles='xy', scale_units='xy', scale=1, color='blue', label='v1')\n",
        "\n",
        "plt.quiver(0, 0, v2[0], v2[1], angles='xy', scale_units='xy', scale=1, color='green', label='v2')\n",
        "\n",
        "plt.quiver(0, 0, v_sum[0], v_sum[1], angles='xy', scale_units='xy', scale=1, color='red', label='v1 + v2')\n",
        "\n",
        "plt.xlim(-1, 6)\n",
        "plt.ylim(-1, 6)\n",
        "plt.axhline(0, color='black')\n",
        "plt.axvline(0, color='black')\n",
        "plt.grid(True)\n",
        "plt.gca().set_aspect('equal')\n",
        "plt.legend()\n",
        "plt.title('Vector Addition')\n",
        "\n",
        "plt.show()\n"
      ],
      "metadata": {
        "colab": {
          "base_uri": "https://localhost:8080/",
          "height": 545
        },
        "id": "YpSvbHVILmPD",
        "outputId": "5e050b6c-42d3-4bdb-d19b-b42881093f79"
      },
      "execution_count": 58,
      "outputs": [
        {
          "output_type": "display_data",
          "data": {
            "text/plain": [
              "<Figure size 600x600 with 1 Axes>"
            ],
            "image/png": "[encoded data removed]"
          },
          "metadata": {}
        }
      ]
    },
    {
      "cell_type": "markdown",
      "source": [],
      "metadata": {
        "id": "YO7K_gRfN3ap"
      }
    },
    {
      "cell_type": "markdown",
      "source": [
        "##linear combination(example)"
      ],
      "metadata": {
        "id": "pa8IiaUkOqig"
      }
    },
    {
      "cell_type": "code",
      "source": [
        "# Define the vectors\n",
        "v1 = np.array([1, 0, 3])\n",
        "v2 = np.array([1, 2, 1])\n",
        "v3 = np.array([2, 3, -1])\n",
        "\n",
        "# Linear combination\n",
        "result = v1 + 4 * v2 - 2 * v3\n",
        "\n",
        "print(\"Result:\", result)"
      ],
      "metadata": {
        "colab": {
          "base_uri": "https://localhost:8080/"
        },
        "id": "PZ1qOlUlO9Sc",
        "outputId": "dbbd7951-5c27-426b-e9f7-3561f197e5fb"
      },
      "execution_count": 59,
      "outputs": [
        {
          "output_type": "stream",
          "name": "stdout",
          "text": [
            "Result: [1 2 9]\n"
          ]
        }
      ]
    },
    {
      "cell_type": "code",
      "source": [],
      "metadata": {
        "id": "Pr70xMZ6PBjz"
      },
      "execution_count": null,
      "outputs": []
    },
    {
      "cell_type": "markdown",
      "source": [
        "##trace"
      ],
      "metadata": {
        "id": "JjQR-sZRqgpU"
      }
    },
    {
      "cell_type": "code",
      "source": [
        "A = np.array([\n",
        "    [1, 2, 3],\n",
        "    [5, 8, 9],\n",
        "    [3, 0, 6]\n",
        "])\n",
        "\n",
        "# Calculate trace\n",
        "trace = np.trace(A)\n",
        "\n",
        "print(\"Trace of matrix:\", trace)"
      ],
      "metadata": {
        "colab": {
          "base_uri": "https://localhost:8080/"
        },
        "id": "HphJjFKGqioA",
        "outputId": "af19a8e3-cf6a-4613-8082-b76d79f6d941"
      },
      "execution_count": 63,
      "outputs": [
        {
          "output_type": "stream",
          "name": "stdout",
          "text": [
            "Trace of matrix: 15\n"
          ]
        }
      ]
    },
    {
      "cell_type": "markdown",
      "source": [
        "##function"
      ],
      "metadata": {
        "id": "hfjisV5b3lIU"
      }
    },
    {
      "cell_type": "code",
      "source": [
        "I = np.array([\n",
        "    [8],\n",
        "    [3],\n",
        "    [5]\n",
        "])\n",
        "\n",
        "\n",
        "A = np.array([\n",
        "    [-1, 1, 2],\n",
        "    [-2, 2, 4]\n",
        "])\n",
        "\n",
        "R = A @ I\n",
        "print(R)"
      ],
      "metadata": {
        "colab": {
          "base_uri": "https://localhost:8080/"
        },
        "id": "WrFkTC7qqjKJ",
        "outputId": "ea89860c-457a-4d6f-f594-8b772d463a9a"
      },
      "execution_count": 18,
      "outputs": [
        {
          "output_type": "stream",
          "name": "stdout",
          "text": [
            "[[ 5]\n",
            " [10]]\n"
          ]
        }
      ]
    },
    {
      "cell_type": "code",
      "source": [],
      "metadata": {
        "id": "781i2ZFo31MH"
      },
      "execution_count": 8,
      "outputs": []
    },
    {
      "cell_type": "code",
      "source": [
        "print(R.T)"
      ],
      "metadata": {
        "colab": {
          "base_uri": "https://localhost:8080/"
        },
        "id": "8ey1PHrH4wAH",
        "outputId": "c823403d-c67d-4e3b-b4f1-f5d7bee96049"
      },
      "execution_count": 12,
      "outputs": [
        {
          "output_type": "stream",
          "name": "stdout",
          "text": [
            "[[ 7 14]]\n"
          ]
        }
      ]
    },
    {
      "cell_type": "code",
      "source": [
        "plot_vector_2d(R, color='red', label='v')"
      ],
      "metadata": {
        "colab": {
          "base_uri": "https://localhost:8080/",
          "height": 565
        },
        "id": "V7353q9V4hcD",
        "outputId": "727a35f6-887e-4054-f4a0-97a89f6fb66c"
      },
      "execution_count": 15,
      "outputs": [
        {
          "output_type": "display_data",
          "data": {
            "text/plain": [
              "<Figure size 600x600 with 1 Axes>"
            ],
            "image/png": "[encoded data removed]"
          },
          "metadata": {}
        }
      ]
    },
    {
      "cell_type": "markdown",
      "source": [
        "## sovle :\n",
        "#### x-2y = 1\n",
        "#### 3x+2y = 11"
      ],
      "metadata": {
        "id": "iB40oJFJ7vrN"
      }
    },
    {
      "cell_type": "code",
      "source": [
        "A = np.array([\n",
        "    [1, -2],\n",
        "    [3, 2]\n",
        "])\n",
        "B= np.array([\n",
        "    [1],\n",
        "    [11]\n",
        "])\n",
        "detA = np.linalg.det(A)\n",
        "print(\"detA:\",detA)\n",
        "A_inv = np.linalg.inv(A)\n",
        "R = A_inv @ B\n",
        "print('x = \\n',int(R[0][0]))\n",
        "print('y = \\n',int(R[1][0]))"
      ],
      "metadata": {
        "colab": {
          "base_uri": "https://localhost:8080/"
        },
        "id": "WOOl9XUR4kI4",
        "outputId": "05f95d98-7c9e-4f0f-bba2-3008d59862bb"
      },
      "execution_count": 36,
      "outputs": [
        {
          "output_type": "stream",
          "name": "stdout",
          "text": [
            "detA: 8.000000000000002\n",
            "x = \n",
            " 3\n",
            "y = \n",
            " 1\n"
          ]
        }
      ]
    },
    {
      "cell_type": "markdown",
      "source": [
        "##det matrix n by n  (recursive)\n",
        "\n",
        "\n"
      ],
      "metadata": {
        "id": "5E_L20ATBka_"
      }
    },
    {
      "cell_type": "code",
      "source": [
        "def minor(matrix, i, j):\n",
        "\n",
        "    return np.delete(np.delete(matrix, i, axis=0), j, axis=1)\n",
        "\n",
        "\n",
        "\n",
        "A = np.array([\n",
        "    [1, -2,9],\n",
        "    [3, 2,7],\n",
        "    [2,-5,6]\n",
        "])\n",
        "A_minor =  minor(A,0,0)\n",
        "print(A_minor)\n",
        "A.shape"
      ],
      "metadata": {
        "colab": {
          "base_uri": "https://localhost:8080/"
        },
        "id": "2-tJfbb5713C",
        "outputId": "f3d9da6f-e4c3-4176-e74e-e465436b7c8b"
      },
      "execution_count": 64,
      "outputs": [
        {
          "output_type": "stream",
          "name": "stdout",
          "text": [
            "[[ 2  7]\n",
            " [-5  6]]\n"
          ]
        },
        {
          "output_type": "execute_result",
          "data": {
            "text/plain": [
              "(3, 3)"
            ]
          },
          "metadata": {},
          "execution_count": 64
        }
      ]
    },
    {
      "cell_type": "code",
      "source": [
        "def determinant_recursive(matrix):\n",
        "  matrix = np.array(matrix)\n",
        "  n = matrix.shape[0]\n",
        "  if n == 1:\n",
        "    return matrix[0, 0]\n",
        "\n",
        "  if n == 2:\n",
        "    return matrix[0,0]*matrix[1,1] - matrix[0,1]*matrix[1,0]\n",
        "\n",
        "  det = 0\n",
        "  for j in range(n):\n",
        "    sign = (-1) ** j\n",
        "    sub_minor = minor(matrix, 0, j)\n",
        "    det += sign * matrix[0, j] * determinant_recursive(sub_minor)\n",
        "\n",
        "  return det"
      ],
      "metadata": {
        "id": "zJco0CK0B7SI"
      },
      "execution_count": 43,
      "outputs": []
    },
    {
      "cell_type": "code",
      "source": [
        "print(\"Determinant:\", determinant_recursive(A))\n",
        "detA = np.linalg.det(A)"
      ],
      "metadata": {
        "colab": {
          "base_uri": "https://localhost:8080/"
        },
        "id": "YU8hgVoFC99G",
        "outputId": "23fc1eae-4275-4d7a-b427-54d6f9625d68"
      },
      "execution_count": 48,
      "outputs": [
        {
          "output_type": "stream",
          "name": "stdout",
          "text": [
            "Determinant: -116\n"
          ]
        }
      ]
    },
    {
      "cell_type": "markdown",
      "source": [
        "##inverse of matrix"
      ],
      "metadata": {
        "id": "PyQrCROyFTg4"
      }
    },
    {
      "cell_type": "code",
      "source": [
        "def cofactor_matrix(matrix):\n",
        "  n = matrix.shape[0]\n",
        "  cof = np.zeros((n, n))\n",
        "  for i in range(n):\n",
        "    for j in range(n):\n",
        "      sign = (-1) ** (i + j)\n",
        "      cof[i, j] = sign * determinant_recursive(minor(matrix, i, j))\n",
        "  return cof\n",
        "\n",
        "def adjugate(matrix):\n",
        "    matrix = np.array(matrix)\n",
        "    cof = cofactor_matrix(matrix)\n",
        "    return cof.T"
      ],
      "metadata": {
        "id": "lFsyCWflDE3p"
      },
      "execution_count": 50,
      "outputs": []
    },
    {
      "cell_type": "code",
      "source": [
        "A_inv = (1/detA) * adjugate(A)\n",
        "print(A_inv)\n"
      ],
      "metadata": {
        "colab": {
          "base_uri": "https://localhost:8080/"
        },
        "id": "T7jssbZULUFC",
        "outputId": "11122ebd-c183-436c-aee5-ab6a6bb86262"
      },
      "execution_count": 53,
      "outputs": [
        {
          "output_type": "stream",
          "name": "stdout",
          "text": [
            "[[-0.40517241  0.28448276  0.27586207]\n",
            " [ 0.03448276  0.10344828 -0.17241379]\n",
            " [ 0.1637931  -0.00862069 -0.06896552]]\n"
          ]
        }
      ]
    },
    {
      "cell_type": "code",
      "source": [
        "#now lest test resault\n",
        "R = A @ A_inv\n",
        "rounded_R = np.abs(np.round(R))\n",
        "I = np.identity(A.shape[0])\n",
        "if np.array_equal(I,rounded_R ):\n",
        "  print(\"ok!\")"
      ],
      "metadata": {
        "colab": {
          "base_uri": "https://localhost:8080/"
        },
        "id": "IfHDtX4xL2HV",
        "outputId": "b3556437-57a8-4dd8-efef-ed46ea0b8733"
      },
      "execution_count": 61,
      "outputs": [
        {
          "output_type": "stream",
          "name": "stdout",
          "text": [
            "ok!\n"
          ]
        }
      ]
    },
    {
      "cell_type": "markdown",
      "source": [
        "##Gauss-Jordan elimination"
      ],
      "metadata": {
        "id": "QvPNfjFySjF3"
      }
    },
    {
      "cell_type": "code",
      "source": [
        "import numpy as np\n",
        "\n",
        "def to_identity(matrix):\n",
        "    A = np.array(matrix, dtype=float)\n",
        "    n = A.shape[0]\n",
        "\n",
        "\n",
        "    I = np.identity(n)\n",
        "    augmented = np.hstack((A, I))\n",
        "\n",
        "\n",
        "    for i in range(n):\n",
        "        if augmented[i, i] == 0:\n",
        "            for j in range(i+1, n):\n",
        "                if augmented[j, i] != 0:\n",
        "                    augmented[[i, j]] = augmented[[j, i]]\n",
        "                    break\n",
        "\n",
        "        augmented[i] = augmented[i] / augmented[i, i]\n",
        "\n",
        "        for j in range(n):\n",
        "            if i != j:\n",
        "                augmented[j] = augmented[j] - augmented[j, i] * augmented[i]\n",
        "\n",
        "    identity_part = augmented[:, :n]\n",
        "    inverse_part = augmented[:, n:]\n",
        "\n",
        "    return identity_part, inverse_part\n",
        "\n",
        "\n",
        "\n",
        "\n"
      ],
      "metadata": {
        "id": "GJGd-bzsMSGN"
      },
      "execution_count": 67,
      "outputs": []
    },
    {
      "cell_type": "code",
      "source": [
        "identity, inverse = to_identity(A)\n",
        "\n",
        "print(\"Resulting Identity Matrix:\")\n",
        "print(identity)\n",
        "\n",
        "print(\"\\nInverse Matrix:\")\n",
        "print(inverse)\n"
      ],
      "metadata": {
        "colab": {
          "base_uri": "https://localhost:8080/"
        },
        "id": "LoGtfOZfSnZe",
        "outputId": "7748c854-7beb-45d5-8640-717c3fa576f3"
      },
      "execution_count": 66,
      "outputs": [
        {
          "output_type": "stream",
          "name": "stdout",
          "text": [
            "Resulting Identity Matrix:\n",
            "[[ 1.  0.  0.]\n",
            " [ 0.  1.  0.]\n",
            " [-0. -0.  1.]]\n",
            "\n",
            "Inverse Matrix:\n",
            "[[-0.40517241  0.28448276  0.27586207]\n",
            " [ 0.03448276  0.10344828 -0.17241379]\n",
            " [ 0.1637931  -0.00862069 -0.06896552]]\n"
          ]
        }
      ]
    },
    {
      "cell_type": "code",
      "source": [
        "np.hstack(([1],[2]))"
      ],
      "metadata": {
        "colab": {
          "base_uri": "https://localhost:8080/"
        },
        "id": "NMWYE3NQZRvQ",
        "outputId": "1c32bcd8-6c49-4fdb-c85a-b0a31794fd7b"
      },
      "execution_count": 69,
      "outputs": [
        {
          "output_type": "execute_result",
          "data": {
            "text/plain": [
              "array([1, 2])"
            ]
          },
          "metadata": {},
          "execution_count": 69
        }
      ]
    },
    {
      "cell_type": "code",
      "source": [],
      "metadata": {
        "id": "hbz_CXT9ZZnB"
      },
      "execution_count": null,
      "outputs": []
    }
  ]
}